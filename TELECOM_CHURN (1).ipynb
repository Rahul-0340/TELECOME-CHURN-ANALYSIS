{
 "cells": [
  {
   "cell_type": "code",
   "execution_count": 48,
   "id": "16e4b234-6619-440e-9e7a-78ef67709f43",
   "metadata": {},
   "outputs": [],
   "source": [
    "import pandas as pd\n",
    "import numpy as np\n",
    "import matplotlib.pyplot as plt\n",
    "import seaborn as sns\n",
    "from sklearn.preprocessing import StandardScaler"
   ]
  },
  {
   "cell_type": "code",
   "execution_count": 49,
   "id": "82f18d47-f5a7-4c98-8fb7-4cd9dd6898ad",
   "metadata": {},
   "outputs": [
    {
     "data": {
      "text/html": [
       "<div>\n",
       "<style scoped>\n",
       "    .dataframe tbody tr th:only-of-type {\n",
       "        vertical-align: middle;\n",
       "    }\n",
       "\n",
       "    .dataframe tbody tr th {\n",
       "        vertical-align: top;\n",
       "    }\n",
       "\n",
       "    .dataframe thead th {\n",
       "        text-align: right;\n",
       "    }\n",
       "</style>\n",
       "<table border=\"1\" class=\"dataframe\">\n",
       "  <thead>\n",
       "    <tr style=\"text-align: right;\">\n",
       "      <th></th>\n",
       "      <th>mobile_number</th>\n",
       "      <th>circle_id</th>\n",
       "      <th>loc_og_t2o_mou</th>\n",
       "      <th>std_og_t2o_mou</th>\n",
       "      <th>loc_ic_t2o_mou</th>\n",
       "      <th>last_date_of_month_6</th>\n",
       "      <th>last_date_of_month_7</th>\n",
       "      <th>last_date_of_month_8</th>\n",
       "      <th>last_date_of_month_9</th>\n",
       "      <th>arpu_6</th>\n",
       "      <th>...</th>\n",
       "      <th>sachet_3g_9</th>\n",
       "      <th>fb_user_6</th>\n",
       "      <th>fb_user_7</th>\n",
       "      <th>fb_user_8</th>\n",
       "      <th>fb_user_9</th>\n",
       "      <th>aon</th>\n",
       "      <th>aug_vbc_3g</th>\n",
       "      <th>jul_vbc_3g</th>\n",
       "      <th>jun_vbc_3g</th>\n",
       "      <th>sep_vbc_3g</th>\n",
       "    </tr>\n",
       "  </thead>\n",
       "  <tbody>\n",
       "    <tr>\n",
       "      <th>0</th>\n",
       "      <td>7000842753</td>\n",
       "      <td>109</td>\n",
       "      <td>0.0</td>\n",
       "      <td>0.0</td>\n",
       "      <td>0.0</td>\n",
       "      <td>6/30/2014</td>\n",
       "      <td>7/31/2014</td>\n",
       "      <td>8/31/2014</td>\n",
       "      <td>9/30/2014</td>\n",
       "      <td>197.385</td>\n",
       "      <td>...</td>\n",
       "      <td>0</td>\n",
       "      <td>1.0</td>\n",
       "      <td>1.0</td>\n",
       "      <td>1.0</td>\n",
       "      <td>NaN</td>\n",
       "      <td>968</td>\n",
       "      <td>30.40</td>\n",
       "      <td>0.00</td>\n",
       "      <td>101.20</td>\n",
       "      <td>3.58</td>\n",
       "    </tr>\n",
       "    <tr>\n",
       "      <th>1</th>\n",
       "      <td>7001865778</td>\n",
       "      <td>109</td>\n",
       "      <td>0.0</td>\n",
       "      <td>0.0</td>\n",
       "      <td>0.0</td>\n",
       "      <td>6/30/2014</td>\n",
       "      <td>7/31/2014</td>\n",
       "      <td>8/31/2014</td>\n",
       "      <td>9/30/2014</td>\n",
       "      <td>34.047</td>\n",
       "      <td>...</td>\n",
       "      <td>0</td>\n",
       "      <td>NaN</td>\n",
       "      <td>1.0</td>\n",
       "      <td>1.0</td>\n",
       "      <td>NaN</td>\n",
       "      <td>1006</td>\n",
       "      <td>0.00</td>\n",
       "      <td>0.00</td>\n",
       "      <td>0.00</td>\n",
       "      <td>0.00</td>\n",
       "    </tr>\n",
       "    <tr>\n",
       "      <th>2</th>\n",
       "      <td>7001625959</td>\n",
       "      <td>109</td>\n",
       "      <td>0.0</td>\n",
       "      <td>0.0</td>\n",
       "      <td>0.0</td>\n",
       "      <td>6/30/2014</td>\n",
       "      <td>7/31/2014</td>\n",
       "      <td>8/31/2014</td>\n",
       "      <td>9/30/2014</td>\n",
       "      <td>167.690</td>\n",
       "      <td>...</td>\n",
       "      <td>0</td>\n",
       "      <td>NaN</td>\n",
       "      <td>NaN</td>\n",
       "      <td>NaN</td>\n",
       "      <td>1.0</td>\n",
       "      <td>1103</td>\n",
       "      <td>0.00</td>\n",
       "      <td>0.00</td>\n",
       "      <td>4.17</td>\n",
       "      <td>0.00</td>\n",
       "    </tr>\n",
       "    <tr>\n",
       "      <th>3</th>\n",
       "      <td>7001204172</td>\n",
       "      <td>109</td>\n",
       "      <td>0.0</td>\n",
       "      <td>0.0</td>\n",
       "      <td>0.0</td>\n",
       "      <td>6/30/2014</td>\n",
       "      <td>7/31/2014</td>\n",
       "      <td>8/31/2014</td>\n",
       "      <td>9/30/2014</td>\n",
       "      <td>221.338</td>\n",
       "      <td>...</td>\n",
       "      <td>0</td>\n",
       "      <td>NaN</td>\n",
       "      <td>NaN</td>\n",
       "      <td>NaN</td>\n",
       "      <td>NaN</td>\n",
       "      <td>2491</td>\n",
       "      <td>0.00</td>\n",
       "      <td>0.00</td>\n",
       "      <td>0.00</td>\n",
       "      <td>0.00</td>\n",
       "    </tr>\n",
       "    <tr>\n",
       "      <th>4</th>\n",
       "      <td>7000142493</td>\n",
       "      <td>109</td>\n",
       "      <td>0.0</td>\n",
       "      <td>0.0</td>\n",
       "      <td>0.0</td>\n",
       "      <td>6/30/2014</td>\n",
       "      <td>7/31/2014</td>\n",
       "      <td>8/31/2014</td>\n",
       "      <td>9/30/2014</td>\n",
       "      <td>261.636</td>\n",
       "      <td>...</td>\n",
       "      <td>0</td>\n",
       "      <td>0.0</td>\n",
       "      <td>NaN</td>\n",
       "      <td>NaN</td>\n",
       "      <td>NaN</td>\n",
       "      <td>1526</td>\n",
       "      <td>0.00</td>\n",
       "      <td>0.00</td>\n",
       "      <td>0.00</td>\n",
       "      <td>0.00</td>\n",
       "    </tr>\n",
       "    <tr>\n",
       "      <th>...</th>\n",
       "      <td>...</td>\n",
       "      <td>...</td>\n",
       "      <td>...</td>\n",
       "      <td>...</td>\n",
       "      <td>...</td>\n",
       "      <td>...</td>\n",
       "      <td>...</td>\n",
       "      <td>...</td>\n",
       "      <td>...</td>\n",
       "      <td>...</td>\n",
       "      <td>...</td>\n",
       "      <td>...</td>\n",
       "      <td>...</td>\n",
       "      <td>...</td>\n",
       "      <td>...</td>\n",
       "      <td>...</td>\n",
       "      <td>...</td>\n",
       "      <td>...</td>\n",
       "      <td>...</td>\n",
       "      <td>...</td>\n",
       "      <td>...</td>\n",
       "    </tr>\n",
       "    <tr>\n",
       "      <th>99994</th>\n",
       "      <td>7001548952</td>\n",
       "      <td>109</td>\n",
       "      <td>0.0</td>\n",
       "      <td>0.0</td>\n",
       "      <td>0.0</td>\n",
       "      <td>6/30/2014</td>\n",
       "      <td>7/31/2014</td>\n",
       "      <td>8/31/2014</td>\n",
       "      <td>9/30/2014</td>\n",
       "      <td>18.471</td>\n",
       "      <td>...</td>\n",
       "      <td>0</td>\n",
       "      <td>NaN</td>\n",
       "      <td>NaN</td>\n",
       "      <td>NaN</td>\n",
       "      <td>NaN</td>\n",
       "      <td>3199</td>\n",
       "      <td>0.00</td>\n",
       "      <td>0.00</td>\n",
       "      <td>0.00</td>\n",
       "      <td>0.00</td>\n",
       "    </tr>\n",
       "    <tr>\n",
       "      <th>99995</th>\n",
       "      <td>7000607688</td>\n",
       "      <td>109</td>\n",
       "      <td>0.0</td>\n",
       "      <td>0.0</td>\n",
       "      <td>0.0</td>\n",
       "      <td>6/30/2014</td>\n",
       "      <td>7/31/2014</td>\n",
       "      <td>8/31/2014</td>\n",
       "      <td>9/30/2014</td>\n",
       "      <td>112.201</td>\n",
       "      <td>...</td>\n",
       "      <td>0</td>\n",
       "      <td>NaN</td>\n",
       "      <td>NaN</td>\n",
       "      <td>NaN</td>\n",
       "      <td>NaN</td>\n",
       "      <td>2052</td>\n",
       "      <td>0.00</td>\n",
       "      <td>0.00</td>\n",
       "      <td>0.00</td>\n",
       "      <td>0.00</td>\n",
       "    </tr>\n",
       "    <tr>\n",
       "      <th>99996</th>\n",
       "      <td>7000087541</td>\n",
       "      <td>109</td>\n",
       "      <td>0.0</td>\n",
       "      <td>0.0</td>\n",
       "      <td>0.0</td>\n",
       "      <td>6/30/2014</td>\n",
       "      <td>7/31/2014</td>\n",
       "      <td>8/31/2014</td>\n",
       "      <td>9/30/2014</td>\n",
       "      <td>229.187</td>\n",
       "      <td>...</td>\n",
       "      <td>0</td>\n",
       "      <td>1.0</td>\n",
       "      <td>NaN</td>\n",
       "      <td>NaN</td>\n",
       "      <td>NaN</td>\n",
       "      <td>185</td>\n",
       "      <td>0.00</td>\n",
       "      <td>0.00</td>\n",
       "      <td>0.00</td>\n",
       "      <td>0.00</td>\n",
       "    </tr>\n",
       "    <tr>\n",
       "      <th>99997</th>\n",
       "      <td>7000498689</td>\n",
       "      <td>109</td>\n",
       "      <td>0.0</td>\n",
       "      <td>0.0</td>\n",
       "      <td>0.0</td>\n",
       "      <td>6/30/2014</td>\n",
       "      <td>7/31/2014</td>\n",
       "      <td>8/31/2014</td>\n",
       "      <td>9/30/2014</td>\n",
       "      <td>322.991</td>\n",
       "      <td>...</td>\n",
       "      <td>0</td>\n",
       "      <td>1.0</td>\n",
       "      <td>1.0</td>\n",
       "      <td>1.0</td>\n",
       "      <td>1.0</td>\n",
       "      <td>478</td>\n",
       "      <td>1445.74</td>\n",
       "      <td>1151.03</td>\n",
       "      <td>1173.18</td>\n",
       "      <td>0.00</td>\n",
       "    </tr>\n",
       "    <tr>\n",
       "      <th>99998</th>\n",
       "      <td>7001905007</td>\n",
       "      <td>109</td>\n",
       "      <td>0.0</td>\n",
       "      <td>0.0</td>\n",
       "      <td>0.0</td>\n",
       "      <td>6/30/2014</td>\n",
       "      <td>7/31/2014</td>\n",
       "      <td>8/31/2014</td>\n",
       "      <td>9/30/2014</td>\n",
       "      <td>687.065</td>\n",
       "      <td>...</td>\n",
       "      <td>0</td>\n",
       "      <td>1.0</td>\n",
       "      <td>NaN</td>\n",
       "      <td>NaN</td>\n",
       "      <td>NaN</td>\n",
       "      <td>751</td>\n",
       "      <td>0.00</td>\n",
       "      <td>0.00</td>\n",
       "      <td>0.00</td>\n",
       "      <td>0.00</td>\n",
       "    </tr>\n",
       "  </tbody>\n",
       "</table>\n",
       "<p>99999 rows × 226 columns</p>\n",
       "</div>"
      ],
      "text/plain": [
       "       mobile_number  circle_id  loc_og_t2o_mou  std_og_t2o_mou  \\\n",
       "0         7000842753        109             0.0             0.0   \n",
       "1         7001865778        109             0.0             0.0   \n",
       "2         7001625959        109             0.0             0.0   \n",
       "3         7001204172        109             0.0             0.0   \n",
       "4         7000142493        109             0.0             0.0   \n",
       "...              ...        ...             ...             ...   \n",
       "99994     7001548952        109             0.0             0.0   \n",
       "99995     7000607688        109             0.0             0.0   \n",
       "99996     7000087541        109             0.0             0.0   \n",
       "99997     7000498689        109             0.0             0.0   \n",
       "99998     7001905007        109             0.0             0.0   \n",
       "\n",
       "       loc_ic_t2o_mou last_date_of_month_6 last_date_of_month_7  \\\n",
       "0                 0.0            6/30/2014            7/31/2014   \n",
       "1                 0.0            6/30/2014            7/31/2014   \n",
       "2                 0.0            6/30/2014            7/31/2014   \n",
       "3                 0.0            6/30/2014            7/31/2014   \n",
       "4                 0.0            6/30/2014            7/31/2014   \n",
       "...               ...                  ...                  ...   \n",
       "99994             0.0            6/30/2014            7/31/2014   \n",
       "99995             0.0            6/30/2014            7/31/2014   \n",
       "99996             0.0            6/30/2014            7/31/2014   \n",
       "99997             0.0            6/30/2014            7/31/2014   \n",
       "99998             0.0            6/30/2014            7/31/2014   \n",
       "\n",
       "      last_date_of_month_8 last_date_of_month_9   arpu_6  ...  sachet_3g_9  \\\n",
       "0                8/31/2014            9/30/2014  197.385  ...            0   \n",
       "1                8/31/2014            9/30/2014   34.047  ...            0   \n",
       "2                8/31/2014            9/30/2014  167.690  ...            0   \n",
       "3                8/31/2014            9/30/2014  221.338  ...            0   \n",
       "4                8/31/2014            9/30/2014  261.636  ...            0   \n",
       "...                    ...                  ...      ...  ...          ...   \n",
       "99994            8/31/2014            9/30/2014   18.471  ...            0   \n",
       "99995            8/31/2014            9/30/2014  112.201  ...            0   \n",
       "99996            8/31/2014            9/30/2014  229.187  ...            0   \n",
       "99997            8/31/2014            9/30/2014  322.991  ...            0   \n",
       "99998            8/31/2014            9/30/2014  687.065  ...            0   \n",
       "\n",
       "       fb_user_6  fb_user_7  fb_user_8  fb_user_9   aon  aug_vbc_3g  \\\n",
       "0            1.0        1.0        1.0        NaN   968       30.40   \n",
       "1            NaN        1.0        1.0        NaN  1006        0.00   \n",
       "2            NaN        NaN        NaN        1.0  1103        0.00   \n",
       "3            NaN        NaN        NaN        NaN  2491        0.00   \n",
       "4            0.0        NaN        NaN        NaN  1526        0.00   \n",
       "...          ...        ...        ...        ...   ...         ...   \n",
       "99994        NaN        NaN        NaN        NaN  3199        0.00   \n",
       "99995        NaN        NaN        NaN        NaN  2052        0.00   \n",
       "99996        1.0        NaN        NaN        NaN   185        0.00   \n",
       "99997        1.0        1.0        1.0        1.0   478     1445.74   \n",
       "99998        1.0        NaN        NaN        NaN   751        0.00   \n",
       "\n",
       "       jul_vbc_3g  jun_vbc_3g  sep_vbc_3g  \n",
       "0            0.00      101.20        3.58  \n",
       "1            0.00        0.00        0.00  \n",
       "2            0.00        4.17        0.00  \n",
       "3            0.00        0.00        0.00  \n",
       "4            0.00        0.00        0.00  \n",
       "...           ...         ...         ...  \n",
       "99994        0.00        0.00        0.00  \n",
       "99995        0.00        0.00        0.00  \n",
       "99996        0.00        0.00        0.00  \n",
       "99997     1151.03     1173.18        0.00  \n",
       "99998        0.00        0.00        0.00  \n",
       "\n",
       "[99999 rows x 226 columns]"
      ]
     },
     "execution_count": 49,
     "metadata": {},
     "output_type": "execute_result"
    }
   ],
   "source": [
    "telecom_data = pd.read_csv('telecom_churn_data.csv')\n",
    "telecom_data"
   ]
  },
  {
   "cell_type": "code",
   "execution_count": 16,
   "id": "72e2aef9-6733-4462-aa23-5a7b2244a7ec",
   "metadata": {},
   "outputs": [
    {
     "name": "stdout",
     "output_type": "stream",
     "text": [
      "   mobile_number  circle_id  loc_og_t2o_mou  std_og_t2o_mou  loc_ic_t2o_mou  \\\n",
      "0     7000842753        109             0.0             0.0             0.0   \n",
      "1     7001865778        109             0.0             0.0             0.0   \n",
      "2     7001625959        109             0.0             0.0             0.0   \n",
      "3     7001204172        109             0.0             0.0             0.0   \n",
      "4     7000142493        109             0.0             0.0             0.0   \n",
      "\n",
      "  last_date_of_month_6 last_date_of_month_7 last_date_of_month_8  \\\n",
      "0            6/30/2014            7/31/2014            8/31/2014   \n",
      "1            6/30/2014            7/31/2014            8/31/2014   \n",
      "2            6/30/2014            7/31/2014            8/31/2014   \n",
      "3            6/30/2014            7/31/2014            8/31/2014   \n",
      "4            6/30/2014            7/31/2014            8/31/2014   \n",
      "\n",
      "  last_date_of_month_9   arpu_6  ...  sachet_3g_9  fb_user_6  fb_user_7  \\\n",
      "0            9/30/2014  197.385  ...            0        1.0        1.0   \n",
      "1            9/30/2014   34.047  ...            0        NaN        1.0   \n",
      "2            9/30/2014  167.690  ...            0        NaN        NaN   \n",
      "3            9/30/2014  221.338  ...            0        NaN        NaN   \n",
      "4            9/30/2014  261.636  ...            0        0.0        NaN   \n",
      "\n",
      "   fb_user_8  fb_user_9   aon  aug_vbc_3g  jul_vbc_3g  jun_vbc_3g  sep_vbc_3g  \n",
      "0        1.0        NaN   968        30.4         0.0      101.20        3.58  \n",
      "1        1.0        NaN  1006         0.0         0.0        0.00        0.00  \n",
      "2        NaN        1.0  1103         0.0         0.0        4.17        0.00  \n",
      "3        NaN        NaN  2491         0.0         0.0        0.00        0.00  \n",
      "4        NaN        NaN  1526         0.0         0.0        0.00        0.00  \n",
      "\n",
      "[5 rows x 226 columns]\n"
     ]
    }
   ],
   "source": [
    "print(telecom_data.head())"
   ]
  },
  {
   "cell_type": "code",
   "execution_count": 17,
   "id": "38b09ca3-c0cd-49ec-9216-1dd37b566f24",
   "metadata": {},
   "outputs": [
    {
     "data": {
      "text/plain": [
       "(99999, 226)"
      ]
     },
     "execution_count": 17,
     "metadata": {},
     "output_type": "execute_result"
    }
   ],
   "source": [
    "telecom_data.shape"
   ]
  },
  {
   "cell_type": "code",
   "execution_count": 18,
   "id": "47cac8fe-ffe8-4656-8995-864277f7a348",
   "metadata": {},
   "outputs": [
    {
     "name": "stdout",
     "output_type": "stream",
     "text": [
      "<class 'pandas.core.frame.DataFrame'>\n",
      "RangeIndex: 99999 entries, 0 to 99998\n",
      "Columns: 226 entries, mobile_number to sep_vbc_3g\n",
      "dtypes: float64(179), int64(35), object(12)\n",
      "memory usage: 172.4+ MB\n",
      "None\n"
     ]
    }
   ],
   "source": [
    "print(telecom_data.info())"
   ]
  },
  {
   "cell_type": "code",
   "execution_count": 19,
   "id": "daaa1254-871c-47e9-af0a-828a91d36090",
   "metadata": {},
   "outputs": [
    {
     "name": "stdout",
     "output_type": "stream",
     "text": [
      "mobile_number        0\n",
      "circle_id            0\n",
      "loc_og_t2o_mou    1018\n",
      "std_og_t2o_mou    1018\n",
      "loc_ic_t2o_mou    1018\n",
      "                  ... \n",
      "aon                  0\n",
      "aug_vbc_3g           0\n",
      "jul_vbc_3g           0\n",
      "jun_vbc_3g           0\n",
      "sep_vbc_3g           0\n",
      "Length: 226, dtype: int64\n"
     ]
    }
   ],
   "source": [
    "print(telecom_data.isnull().sum())"
   ]
  },
  {
   "cell_type": "code",
   "execution_count": 11,
   "id": "3614c4c6-f09c-40d9-9bf0-aa7d6ac1dad8",
   "metadata": {},
   "outputs": [
    {
     "name": "stdout",
     "output_type": "stream",
     "text": [
      "       mobile_number  circle_id  loc_og_t2o_mou  std_og_t2o_mou  \\\n",
      "count   9.999900e+04    99999.0         98981.0         98981.0   \n",
      "mean    7.001207e+09      109.0             0.0             0.0   \n",
      "std     6.956694e+05        0.0             0.0             0.0   \n",
      "min     7.000000e+09      109.0             0.0             0.0   \n",
      "25%     7.000606e+09      109.0             0.0             0.0   \n",
      "50%     7.001205e+09      109.0             0.0             0.0   \n",
      "75%     7.001812e+09      109.0             0.0             0.0   \n",
      "max     7.002411e+09      109.0             0.0             0.0   \n",
      "\n",
      "       loc_ic_t2o_mou        arpu_6        arpu_7        arpu_8        arpu_9  \\\n",
      "count         98981.0  99999.000000  99999.000000  99999.000000  99999.000000   \n",
      "mean              0.0    282.987358    278.536648    279.154731    261.645069   \n",
      "std               0.0    328.439770    338.156291    344.474791    341.998630   \n",
      "min               0.0  -2258.709000  -2014.045000   -945.808000  -1899.505000   \n",
      "25%               0.0     93.411500     86.980500     84.126000     62.685000   \n",
      "50%               0.0    197.704000    191.640000    192.080000    176.849000   \n",
      "75%               0.0    371.060000    365.344500    369.370500    353.466500   \n",
      "max               0.0  27731.088000  35145.834000  33543.624000  38805.617000   \n",
      "\n",
      "        onnet_mou_6  ...   sachet_3g_9     fb_user_6     fb_user_7  \\\n",
      "count  96062.000000  ...  99999.000000  25153.000000  25571.000000   \n",
      "mean     132.395875  ...      0.084581      0.914404      0.908764   \n",
      "std      297.207406  ...      0.650457      0.279772      0.287950   \n",
      "min        0.000000  ...      0.000000      0.000000      0.000000   \n",
      "25%        7.380000  ...      0.000000      1.000000      1.000000   \n",
      "50%       34.310000  ...      0.000000      1.000000      1.000000   \n",
      "75%      118.740000  ...      0.000000      1.000000      1.000000   \n",
      "max     7376.710000  ...     49.000000      1.000000      1.000000   \n",
      "\n",
      "          fb_user_8     fb_user_9           aon    aug_vbc_3g    jul_vbc_3g  \\\n",
      "count  26339.000000  25922.000000  99999.000000  99999.000000  99999.000000   \n",
      "mean       0.890808      0.860968   1219.854749     68.170248     66.839062   \n",
      "std        0.311885      0.345987    954.733842    267.580450    271.201856   \n",
      "min        0.000000      0.000000    180.000000      0.000000      0.000000   \n",
      "25%        1.000000      1.000000    467.000000      0.000000      0.000000   \n",
      "50%        1.000000      1.000000    863.000000      0.000000      0.000000   \n",
      "75%        1.000000      1.000000   1807.500000      0.000000      0.000000   \n",
      "max        1.000000      1.000000   4337.000000  12916.220000   9165.600000   \n",
      "\n",
      "         jun_vbc_3g    sep_vbc_3g  \n",
      "count  99999.000000  99999.000000  \n",
      "mean      60.021204      3.299373  \n",
      "std      253.938223     32.408353  \n",
      "min        0.000000      0.000000  \n",
      "25%        0.000000      0.000000  \n",
      "50%        0.000000      0.000000  \n",
      "75%        0.000000      0.000000  \n",
      "max    11166.210000   2618.570000  \n",
      "\n",
      "[8 rows x 214 columns]\n"
     ]
    }
   ],
   "source": [
    "print(tele.describe())"
   ]
  },
  {
   "cell_type": "code",
   "execution_count": 20,
   "id": "37c6610f-5326-4fbf-a582-4278503c8138",
   "metadata": {},
   "outputs": [
    {
     "name": "stdout",
     "output_type": "stream",
     "text": [
      "0        7000842753\n",
      "1        7001865778\n",
      "2        7001625959\n",
      "3        7001204172\n",
      "4        7000142493\n",
      "            ...    \n",
      "99994    7001548952\n",
      "99995    7000607688\n",
      "99996    7000087541\n",
      "99997    7000498689\n",
      "99998    7001905007\n",
      "Name: mobile_number, Length: 99999, dtype: int64\n"
     ]
    }
   ],
   "source": [
    "# Displaying the customer phone numbers\n",
    "customer_phone_numbers = telecom_data['mobile_number']\n",
    "print(customer_phone_numbers)"
   ]
  },
  {
   "cell_type": "code",
   "execution_count": 21,
   "id": "cc2da8ce-98b0-4954-8030-b90ae129bc8b",
   "metadata": {},
   "outputs": [
    {
     "name": "stdout",
     "output_type": "stream",
     "text": [
      "       mobile_number  circle_id\n",
      "0         7000842753        109\n",
      "1         7001865778        109\n",
      "2         7001625959        109\n",
      "3         7001204172        109\n",
      "4         7000142493        109\n",
      "...              ...        ...\n",
      "99994     7001548952        109\n",
      "99995     7000607688        109\n",
      "99996     7000087541        109\n",
      "99997     7000498689        109\n",
      "99998     7001905007        109\n",
      "\n",
      "[99999 rows x 2 columns]\n"
     ]
    }
   ],
   "source": [
    "# Displaying customer phone numbers along with their telecom circle areas\n",
    "customer_circle_data = telecom_data[['mobile_number', 'circle_id']]\n",
    "print(customer_circle_data)"
   ]
  },
  {
   "cell_type": "code",
   "execution_count": 23,
   "id": "73721c21-59ea-4c2e-a856-81c1e48b1ff9",
   "metadata": {},
   "outputs": [
    {
     "name": "stdout",
     "output_type": "stream",
     "text": [
      "       mobile_number  circle_id  loc_og_t2o_mou  loc_ic_t2o_mou\n",
      "0         7000842753        109             0.0             0.0\n",
      "1         7001865778        109             0.0             0.0\n",
      "2         7001625959        109             0.0             0.0\n",
      "3         7001204172        109             0.0             0.0\n",
      "4         7000142493        109             0.0             0.0\n",
      "...              ...        ...             ...             ...\n",
      "99994     7001548952        109             0.0             0.0\n",
      "99995     7000607688        109             0.0             0.0\n",
      "99996     7000087541        109             0.0             0.0\n",
      "99997     7000498689        109             0.0             0.0\n",
      "99998     7001905007        109             0.0             0.0\n",
      "\n",
      "[99999 rows x 4 columns]\n"
     ]
    }
   ],
   "source": [
    "# Displaying local calls data with phone numbers and circle IDs\n",
    "#This will show:\n",
    "#mobile_number: Customer phone number.\n",
    "#circle_id: Telecom circle ID.\n",
    "#loc_og_t2o_mou: Minutes of usage for local outgoing calls.\n",
    "#loc_ic_t2o_mou: Minutes of usage for local incoming calls.\n",
    "\n",
    "local_calls_data = telecom_data[['mobile_number', 'circle_id', 'loc_og_t2o_mou', 'loc_ic_t2o_mou']]\n",
    "print(local_calls_data)"
   ]
  },
  {
   "cell_type": "code",
   "execution_count": 25,
   "id": "861656c7-722c-4521-9b14-839e96ed43c3",
   "metadata": {},
   "outputs": [
    {
     "name": "stdout",
     "output_type": "stream",
     "text": [
      "       mobile_number  circle_id  std_og_t2o_mou\n",
      "0         7000842753        109             0.0\n",
      "1         7001865778        109             0.0\n",
      "2         7001625959        109             0.0\n",
      "3         7001204172        109             0.0\n",
      "4         7000142493        109             0.0\n",
      "...              ...        ...             ...\n",
      "99994     7001548952        109             0.0\n",
      "99995     7000607688        109             0.0\n",
      "99996     7000087541        109             0.0\n",
      "99997     7000498689        109             0.0\n",
      "99998     7001905007        109             0.0\n",
      "\n",
      "[99999 rows x 3 columns]\n"
     ]
    }
   ],
   "source": [
    "# Displaying STD calls data with phone numbers and circle IDs\n",
    "std_calls_data = telecom_data[['mobile_number', 'circle_id', 'std_og_t2o_mou']]\n",
    "print(std_calls_data)"
   ]
  },
  {
   "cell_type": "code",
   "execution_count": 27,
   "id": "47abc825-2432-4166-9420-ab431653b98f",
   "metadata": {},
   "outputs": [
    {
     "name": "stdout",
     "output_type": "stream",
     "text": [
      "       mobile_number  circle_id  loc_ic_t2o_mou\n",
      "0         7000842753        109             0.0\n",
      "1         7001865778        109             0.0\n",
      "2         7001625959        109             0.0\n",
      "3         7001204172        109             0.0\n",
      "4         7000142493        109             0.0\n",
      "...              ...        ...             ...\n",
      "99994     7001548952        109             0.0\n",
      "99995     7000607688        109             0.0\n",
      "99996     7000087541        109             0.0\n",
      "99997     7000498689        109             0.0\n",
      "99998     7001905007        109             0.0\n",
      "\n",
      "[99999 rows x 3 columns]\n"
     ]
    }
   ],
   "source": [
    "# Displaying incoming calls data with phone numbers and circle IDs\n",
    "incoming_calls_data = telecom_data[['mobile_number', 'circle_id', 'loc_ic_t2o_mou']]\n",
    "print(incoming_calls_data)"
   ]
  },
  {
   "cell_type": "code",
   "execution_count": 28,
   "id": "4a59a88c-f9ba-49f4-bc1d-85a4d7ada9a7",
   "metadata": {},
   "outputs": [
    {
     "name": "stdout",
     "output_type": "stream",
     "text": [
      "       mobile_number  circle_id  loc_og_t2o_mou  std_og_t2o_mou\n",
      "0         7000842753        109             0.0             0.0\n",
      "1         7001865778        109             0.0             0.0\n",
      "2         7001625959        109             0.0             0.0\n",
      "3         7001204172        109             0.0             0.0\n",
      "4         7000142493        109             0.0             0.0\n",
      "...              ...        ...             ...             ...\n",
      "99994     7001548952        109             0.0             0.0\n",
      "99995     7000607688        109             0.0             0.0\n",
      "99996     7000087541        109             0.0             0.0\n",
      "99997     7000498689        109             0.0             0.0\n",
      "99998     7001905007        109             0.0             0.0\n",
      "\n",
      "[99999 rows x 4 columns]\n"
     ]
    }
   ],
   "source": [
    "# Displaying T-to-T calls data (within the same operator)\n",
    "t_to_t_calls_data = telecom_data[['mobile_number', 'circle_id', 'loc_og_t2o_mou', 'std_og_t2o_mou']]\n",
    "print(t_to_t_calls_data)"
   ]
  },
  {
   "cell_type": "code",
   "execution_count": 30,
   "id": "7d29b71a-4bc1-4c8d-a56e-56308ede2de3",
   "metadata": {},
   "outputs": [
    {
     "name": "stdout",
     "output_type": "stream",
     "text": [
      "       mobile_number  circle_id\n",
      "0         7000842753        109\n",
      "1         7001865778        109\n",
      "2         7001625959        109\n",
      "3         7001204172        109\n",
      "4         7000142493        109\n",
      "...              ...        ...\n",
      "99994     7001548952        109\n",
      "99995     7000607688        109\n",
      "99996     7000087541        109\n",
      "99997     7000498689        109\n",
      "99998     7001905007        109\n",
      "\n",
      "[99999 rows x 2 columns]\n"
     ]
    }
   ],
   "source": [
    "# Displaying outgoing calls to other operators (mobile to mobile on different networks)\n",
    "other_operator_calls_data = telecom_data[['mobile_number', 'circle_id']]\n",
    "print(other_operator_calls_data)"
   ]
  },
  {
   "cell_type": "code",
   "execution_count": 32,
   "id": "9e39068b-6e7b-410b-85c1-2f2824405637",
   "metadata": {},
   "outputs": [
    {
     "name": "stdout",
     "output_type": "stream",
     "text": [
      "       mobile_number  circle_id\n",
      "0         7000842753        109\n",
      "1         7001865778        109\n",
      "2         7001625959        109\n",
      "3         7001204172        109\n",
      "4         7000142493        109\n",
      "...              ...        ...\n",
      "99994     7001548952        109\n",
      "99995     7000607688        109\n",
      "99996     7000087541        109\n",
      "99997     7000498689        109\n",
      "99998     7001905007        109\n",
      "\n",
      "[99999 rows x 2 columns]\n"
     ]
    }
   ],
   "source": [
    "# Displaying outgoing calls to other operators' fixed lines\n",
    "other_operator_fixed_line_calls_data = telecom_data[['mobile_number', 'circle_id']]\n",
    "print(other_operator_fixed_line_calls_data)"
   ]
  },
  {
   "cell_type": "code",
   "execution_count": null,
   "id": "817117c4-6fd5-4c73-a2cc-d5043e3add0c",
   "metadata": {},
   "outputs": [],
   "source": [
    "#Indicates that customer is in roaming zone during the call\n"
   ]
  },
  {
   "cell_type": "code",
   "execution_count": 88,
   "id": "cc6b14db-d045-4124-8391-55130cfaf58a",
   "metadata": {},
   "outputs": [
    {
     "name": "stdout",
     "output_type": "stream",
     "text": [
      "Total Roaming Calls: 24\n"
     ]
    }
   ],
   "source": [
    "roaming_calls = telecom_data[telecom_data['roam_ic_mou_6'] == 1].shape[0]\n",
    "print(f\"Total Roaming Calls: {roaming_calls}\")"
   ]
  },
  {
   "cell_type": "code",
   "execution_count": 91,
   "id": "b69ab533-55f0-4970-a2a3-c0355ff551b8",
   "metadata": {},
   "outputs": [
    {
     "name": "stdout",
     "output_type": "stream",
     "text": [
      "Total Roaming Calls: 20\n"
     ]
    }
   ],
   "source": [
    "roaming_calls = telecom_data[telecom_data['roam_ic_mou_7'] == 1].shape[0]\n",
    "print(f\"Total Roaming Calls: {roaming_calls}\")"
   ]
  },
  {
   "cell_type": "code",
   "execution_count": 90,
   "id": "80f7f8c0-5771-4d69-91b6-584989a339ca",
   "metadata": {},
   "outputs": [
    {
     "name": "stdout",
     "output_type": "stream",
     "text": [
      "Total Roaming Calls: 20\n"
     ]
    }
   ],
   "source": [
    "roaming_calls = telecom_data[telecom_data['roam_ic_mou_8'] == 1].shape[0]\n",
    "print(f\"Total Roaming Calls: {roaming_calls}\")"
   ]
  },
  {
   "cell_type": "code",
   "execution_count": 89,
   "id": "7656db90-859a-42cf-8ad1-4e7b5a77e241",
   "metadata": {},
   "outputs": [
    {
     "name": "stdout",
     "output_type": "stream",
     "text": [
      "Total Roaming Calls: 19\n"
     ]
    }
   ],
   "source": [
    "roaming_calls = telecom_data[telecom_data['roam_ic_mou_9'] == 1].shape[0]\n",
    "print(f\"Total Roaming Calls: {roaming_calls}\")"
   ]
  },
  {
   "cell_type": "code",
   "execution_count": null,
   "id": "bd99ec5d-d2e4-4b2d-80a7-69790393f5df",
   "metadata": {},
   "outputs": [],
   "source": [
    "#Average Revenue Per User (ARPU)"
   ]
  },
  {
   "cell_type": "code",
   "execution_count": 38,
   "id": "ae00abc5-2013-43e7-a3a0-0c13b72bfd4c",
   "metadata": {},
   "outputs": [
    {
     "name": "stdout",
     "output_type": "stream",
     "text": [
      "Average Revenue Per User (ARPU):\n",
      "arpu_6    282.987358\n",
      "arpu_7    278.536648\n",
      "arpu_8    279.154731\n",
      "arpu_9    261.645069\n",
      "dtype: float64\n"
     ]
    }
   ],
   "source": [
    "arpu_mean = telecom_data[['arpu_6', 'arpu_7', 'arpu_8', 'arpu_9']].mean()\n",
    "print(\"Average Revenue Per User (ARPU):\")\n",
    "print(arpu_mean)"
   ]
  },
  {
   "cell_type": "code",
   "execution_count": 39,
   "id": "a6a6f647-ad9b-444a-9217-572e4395f665",
   "metadata": {},
   "outputs": [
    {
     "name": "stdout",
     "output_type": "stream",
     "text": [
      "Total Voice Usage (minutes): 0.0\n"
     ]
    }
   ],
   "source": [
    "total_voice_usage = telecom_data['loc_og_t2o_mou'] + telecom_data['std_og_t2o_mou'] + telecom_data['loc_ic_t2o_mou']\n",
    "print(f\"Total Voice Usage (minutes): {total_voice_usage.sum()}\")"
   ]
  },
  {
   "cell_type": "code",
   "execution_count": 40,
   "id": "303423a5-112c-43ea-b489-7c926b8330c0",
   "metadata": {},
   "outputs": [
    {
     "name": "stdout",
     "output_type": "stream",
     "text": [
      "Average Age on Network (days): 1219.8547485474855\n"
     ]
    }
   ],
   "source": [
    "average_aon = telecom_data['aon'].mean()\n",
    "print(f\"Average Age on Network (days): {average_aon}\")"
   ]
  },
  {
   "cell_type": "code",
   "execution_count": 41,
   "id": "435abeb0-6fce-4d9c-bd12-acf077821cd8",
   "metadata": {},
   "outputs": [
    {
     "name": "stdout",
     "output_type": "stream",
     "text": [
      "Total Calls Within Network (minutes): 0.0\n",
      "Total Calls Outside Network (minutes): 0.0\n"
     ]
    }
   ],
   "source": [
    "within_network = telecom_data['loc_og_t2o_mou'].sum() + telecom_data['loc_ic_t2o_mou'].sum()\n",
    "outside_network = telecom_data['std_og_t2o_mou'].sum()\n",
    "print(f\"Total Calls Within Network (minutes): {within_network}\")\n",
    "print(f\"Total Calls Outside Network (minutes): {outside_network}\")"
   ]
  },
  {
   "cell_type": "code",
   "execution_count": null,
   "id": "2baa59a9-952e-42d8-9fa4-85a072348342",
   "metadata": {},
   "outputs": [],
   "source": [
    "#TOTAL RECHARGES"
   ]
  },
  {
   "cell_type": "code",
   "execution_count": 52,
   "id": "adb1059c-8d1f-448a-b2ce-f3a9971ba65f",
   "metadata": {},
   "outputs": [
    {
     "name": "stdout",
     "output_type": "stream",
     "text": [
      "Average Mobile Internet Usage (3G): 0.08458084580845808 MB\n",
      "Average Mobile Internet Usage (2G): 0.3931039310393104 MB\n"
     ]
    }
   ],
   "source": [
    "average_3g_usage = telecom_data['sachet_3g_9'].mean() \n",
    "average_2g_usage = telecom_data['sachet_2g_9'].mean() \n",
    "print(f\"Average Mobile Internet Usage (3G): {average_3g_usage} MB\")\n",
    "print(f\"Average Mobile Internet Usage (2G): {average_2g_usage} MB\")"
   ]
  },
  {
   "cell_type": "code",
   "execution_count": 56,
   "id": "8fb24cf8-8f52-46b7-99c4-bfa705d4f038",
   "metadata": {},
   "outputs": [
    {
     "name": "stdout",
     "output_type": "stream",
     "text": [
      "Total Recharge Amount: 61972.0\n"
     ]
    }
   ],
   "source": [
    "total_recharge = telecom_data['total_rech_data_6'].sum() \n",
    "print(f\"Total Recharge Amount: {total_recharge}\")"
   ]
  },
  {
   "cell_type": "code",
   "execution_count": 57,
   "id": "733763bb-1538-488d-8515-718100a76e7c",
   "metadata": {},
   "outputs": [
    {
     "name": "stdout",
     "output_type": "stream",
     "text": [
      "Total Recharge Amount: 68183.0\n"
     ]
    }
   ],
   "source": [
    "total_recharge = telecom_data['total_rech_data_7'].sum() \n",
    "print(f\"Total Recharge Amount: {total_recharge}\")"
   ]
  },
  {
   "cell_type": "code",
   "execution_count": 58,
   "id": "edec2929-3a24-40de-ac0e-6f49066622e7",
   "metadata": {},
   "outputs": [
    {
     "name": "stdout",
     "output_type": "stream",
     "text": [
      "Total Recharge Amount: 69851.0\n"
     ]
    }
   ],
   "source": [
    "total_recharge = telecom_data['total_rech_data_8'].sum()  \n",
    "print(f\"Total Recharge Amount: {total_recharge}\")"
   ]
  },
  {
   "cell_type": "code",
   "execution_count": 59,
   "id": "34b18401-8927-404b-b6d8-eded3eb498b8",
   "metadata": {},
   "outputs": [
    {
     "name": "stdout",
     "output_type": "stream",
     "text": [
      "Total Recharge Amount: 63280.0\n"
     ]
    }
   ],
   "source": [
    "total_recharge = telecom_data['total_rech_data_9'].sum()  \n",
    "print(f\"Total Recharge Amount: {total_recharge}\")"
   ]
  },
  {
   "cell_type": "code",
   "execution_count": 61,
   "id": "ed1333ce-b0c7-45de-82f8-fb308fd470cc",
   "metadata": {},
   "outputs": [
    {
     "name": "stdout",
     "output_type": "stream",
     "text": [
      "Total Recharge Amount: 3179173.0\n"
     ]
    }
   ],
   "source": [
    "total_recharge = telecom_data['max_rech_data_6'].sum()  \n",
    "print(f\"Total Recharge Amount: {total_recharge}\")"
   ]
  },
  {
   "cell_type": "code",
   "execution_count": 62,
   "id": "cc54a6ad-625e-4302-ab42-876157942c64",
   "metadata": {},
   "outputs": [
    {
     "name": "stdout",
     "output_type": "stream",
     "text": [
      "Total Recharge Amount: 3240599.0\n"
     ]
    }
   ],
   "source": [
    "total_recharge = telecom_data['max_rech_data_7'].sum()  \n",
    "print(f\"Total Recharge Amount: {total_recharge}\")"
   ]
  },
  {
   "cell_type": "code",
   "execution_count": 63,
   "id": "cd86f2dc-a00b-46d7-b19c-f3d52e4a495f",
   "metadata": {},
   "outputs": [
    {
     "name": "stdout",
     "output_type": "stream",
     "text": [
      "Total Recharge Amount: 3311268.0\n"
     ]
    }
   ],
   "source": [
    "total_recharge = telecom_data['max_rech_data_8'].sum()  \n",
    "print(f\"Total Recharge Amount: {total_recharge}\")"
   ]
  },
  {
   "cell_type": "code",
   "execution_count": 64,
   "id": "90e8275c-8515-460b-bb67-0c721ae05597",
   "metadata": {},
   "outputs": [
    {
     "name": "stdout",
     "output_type": "stream",
     "text": [
      "Total Recharge Amount: 3238732.0\n"
     ]
    }
   ],
   "source": [
    "total_recharge = telecom_data['max_rech_data_9'].sum()  \n",
    "print(f\"Total Recharge Amount: {total_recharge}\")"
   ]
  },
  {
   "cell_type": "code",
   "execution_count": null,
   "id": "3ebadcd4-8d31-46bd-b6d2-921429e06f0e",
   "metadata": {},
   "outputs": [],
   "source": [
    "#Scheme to use during specific night hours only"
   ]
  },
  {
   "cell_type": "code",
   "execution_count": 67,
   "id": "fd5a10a9-3953-4f04-931e-d99f14e0f17f",
   "metadata": {},
   "outputs": [
    {
     "name": "stdout",
     "output_type": "stream",
     "text": [
      "Total Night Hour Schemes: 631\n",
      "Total Monthly Validity Schemes: 6728\n"
     ]
    }
   ],
   "source": [
    "night_hour_schemes = telecom_data[telecom_data['night_pck_user_6'] == 1].shape[0] \n",
    "monthly_validity_schemes = telecom_data[telecom_data['monthly_2g_6'] == 1].shape[0]  \n",
    "print(f\"Total Night Hour Schemes: {night_hour_schemes}\")\n",
    "print(f\"Total Monthly Validity Schemes: {monthly_validity_schemes}\")"
   ]
  },
  {
   "cell_type": "code",
   "execution_count": 68,
   "id": "425b7458-4eb7-4476-a74f-30b9d0b63446",
   "metadata": {},
   "outputs": [
    {
     "name": "stdout",
     "output_type": "stream",
     "text": [
      "Total Night Hour Schemes: 589\n",
      "Total Monthly Validity Schemes: 6855\n"
     ]
    }
   ],
   "source": [
    "night_hour_schemes = telecom_data[telecom_data['night_pck_user_7'] == 1].shape[0] \n",
    "monthly_validity_schemes = telecom_data[telecom_data['monthly_2g_7'] == 1].shape[0]  \n",
    "print(f\"Total Night Hour Schemes: {night_hour_schemes}\")\n",
    "print(f\"Total Monthly Validity Schemes: {monthly_validity_schemes}\")"
   ]
  },
  {
   "cell_type": "code",
   "execution_count": 69,
   "id": "76010c4f-8b95-4cda-99e9-3857ead16bdd",
   "metadata": {},
   "outputs": [
    {
     "name": "stdout",
     "output_type": "stream",
     "text": [
      "Total Night Hour Schemes: 549\n",
      "Total Monthly Validity Schemes: 6775\n"
     ]
    }
   ],
   "source": [
    "night_hour_schemes = telecom_data[telecom_data['night_pck_user_8'] == 1].shape[0] \n",
    "monthly_validity_schemes = telecom_data[telecom_data['monthly_2g_8'] == 1].shape[0]  \n",
    "print(f\"Total Night Hour Schemes: {night_hour_schemes}\")\n",
    "print(f\"Total Monthly Validity Schemes: {monthly_validity_schemes}\")"
   ]
  },
  {
   "cell_type": "code",
   "execution_count": 70,
   "id": "db2b44cb-224e-4290-9f02-98d101babd16",
   "metadata": {},
   "outputs": [
    {
     "name": "stdout",
     "output_type": "stream",
     "text": [
      "Total Night Hour Schemes: 414\n",
      "Total Monthly Validity Schemes: 5695\n"
     ]
    }
   ],
   "source": [
    "night_hour_schemes = telecom_data[telecom_data['night_pck_user_9'] == 1].shape[0] \n",
    "monthly_validity_schemes = telecom_data[telecom_data['monthly_2g_9'] == 1].shape[0]  \n",
    "print(f\"Total Night Hour Schemes: {night_hour_schemes}\")\n",
    "print(f\"Total Monthly Validity Schemes: {monthly_validity_schemes}\")"
   ]
  },
  {
   "cell_type": "code",
   "execution_count": null,
   "id": "e8502bc2-6b21-4c53-823f-d519455dcc1d",
   "metadata": {},
   "outputs": [],
   "source": [
    "#KPI for the month of June"
   ]
  },
  {
   "cell_type": "code",
   "execution_count": 73,
   "id": "3f805a8d-99f5-4b3c-9573-9f9b2ad4536d",
   "metadata": {},
   "outputs": [
    {
     "name": "stdout",
     "output_type": "stream",
     "text": [
      "KPIs: June - 282.98735844358447, July - 278.53664810648104, August - 279.1547314573146, September - 261.6450692706928\n"
     ]
    }
   ],
   "source": [
    "kpi_june = telecom_data['arpu_6'].mean()\n",
    "kpi_july = telecom_data['arpu_7'].mean()\n",
    "kpi_august = telecom_data['arpu_8'].mean()\n",
    "kpi_september = telecom_data['arpu_9'].mean()\n",
    "print(f\"KPIs: June - {kpi_june}, July - {kpi_july}, August - {kpi_august}, September - {kpi_september}\")"
   ]
  },
  {
   "cell_type": "code",
   "execution_count": null,
   "id": "88b39e09-59f4-44f6-ba0d-53c100af9790",
   "metadata": {},
   "outputs": [],
   "source": [
    "#Service scheme to avail services of Facebook and similar social networking sites"
   ]
  },
  {
   "cell_type": "code",
   "execution_count": 75,
   "id": "d1995a86-5b57-462e-8ca9-6fff959f58b6",
   "metadata": {},
   "outputs": [
    {
     "name": "stdout",
     "output_type": "stream",
     "text": [
      "Total Users Availing Social Networking Schemes: 23000\n"
     ]
    }
   ],
   "source": [
    "social_scheme_count = telecom_data[telecom_data['fb_user_6'] == 1].shape[0]\n",
    "print(f\"Total Users Availing Social Networking Schemes: {social_scheme_count}\")"
   ]
  },
  {
   "cell_type": "code",
   "execution_count": 76,
   "id": "b880d75a-647a-4ac6-a7ef-306b5d71f934",
   "metadata": {},
   "outputs": [
    {
     "name": "stdout",
     "output_type": "stream",
     "text": [
      "Total Users Availing Social Networking Schemes: 23238\n"
     ]
    }
   ],
   "source": [
    "social_scheme_count = telecom_data[telecom_data['fb_user_7'] == 1].shape[0]\n",
    "print(f\"Total Users Availing Social Networking Schemes: {social_scheme_count}\")"
   ]
  },
  {
   "cell_type": "code",
   "execution_count": 77,
   "id": "64b90e90-887f-46c8-9f19-e88e9448c507",
   "metadata": {},
   "outputs": [
    {
     "name": "stdout",
     "output_type": "stream",
     "text": [
      "Total Users Availing Social Networking Schemes: 23463\n"
     ]
    }
   ],
   "source": [
    "social_scheme_count = telecom_data[telecom_data['fb_user_8'] == 1].shape[0]\n",
    "print(f\"Total Users Availing Social Networking Schemes: {social_scheme_count}\")"
   ]
  },
  {
   "cell_type": "code",
   "execution_count": 78,
   "id": "e8bb319c-2d75-453b-b155-28e3ffeaa22d",
   "metadata": {},
   "outputs": [
    {
     "name": "stdout",
     "output_type": "stream",
     "text": [
      "Total Users Availing Social Networking Schemes: 22318\n"
     ]
    }
   ],
   "source": [
    "social_scheme_count = telecom_data[telecom_data['fb_user_9'] == 1].shape[0]\n",
    "print(f\"Total Users Availing Social Networking Schemes: {social_scheme_count}\")"
   ]
  },
  {
   "cell_type": "code",
   "execution_count": null,
   "id": "d1e42742-f87b-4168-ae9e-6372a19f82f2",
   "metadata": {},
   "outputs": [],
   "source": [
    "#Volume based cost - when no specific scheme is not purchased and paid as per usage"
   ]
  },
  {
   "cell_type": "code",
   "execution_count": 84,
   "id": "4a92b825-34af-4453-bab2-ee2f8028c93b",
   "metadata": {},
   "outputs": [
    {
     "name": "stdout",
     "output_type": "stream",
     "text": [
      "Total Volume-Based Cost: 5295354.13\n"
     ]
    }
   ],
   "source": [
    "volume_based_cost = telecom_data[telecom_data['fb_user_6'] == 1]['jun_vbc_3g'].sum()  \n",
    "print(f\"Total Volume-Based Cost: {volume_based_cost}\")"
   ]
  },
  {
   "cell_type": "code",
   "execution_count": 85,
   "id": "667a659e-960c-44ab-9879-1f4b73cc7d79",
   "metadata": {},
   "outputs": [
    {
     "name": "stdout",
     "output_type": "stream",
     "text": [
      "Total Volume-Based Cost: 5891777.4\n"
     ]
    }
   ],
   "source": [
    "volume_based_cost = telecom_data[telecom_data['fb_user_7'] == 1]['jul_vbc_3g'].sum()  \n",
    "print(f\"Total Volume-Based Cost: {volume_based_cost}\")"
   ]
  },
  {
   "cell_type": "code",
   "execution_count": 86,
   "id": "4fa845b2-f799-452e-9626-c8fc1deb3481",
   "metadata": {},
   "outputs": [
    {
     "name": "stdout",
     "output_type": "stream",
     "text": [
      "Total Volume-Based Cost: 5956569.14\n"
     ]
    }
   ],
   "source": [
    "volume_based_cost = telecom_data[telecom_data['fb_user_8'] == 1]['aug_vbc_3g'].sum()\n",
    "print(f\"Total Volume-Based Cost: {volume_based_cost}\")"
   ]
  },
  {
   "cell_type": "code",
   "execution_count": 87,
   "id": "e59260ae-4b12-47ec-8595-96bccc061ec8",
   "metadata": {},
   "outputs": [
    {
     "name": "stdout",
     "output_type": "stream",
     "text": [
      "Total Volume-Based Cost: 279114.32\n"
     ]
    }
   ],
   "source": [
    "volume_based_cost = telecom_data[telecom_data['fb_user_9'] == 1]['sep_vbc_3g'].sum()  \n",
    "print(f\"Total Volume-Based Cost: {volume_based_cost}\")"
   ]
  },
  {
   "cell_type": "code",
   "execution_count": null,
   "id": "f8ebae54-7442-4e1f-bb41-79ef222ce1e9",
   "metadata": {},
   "outputs": [],
   "source": []
  }
 ],
 "metadata": {
  "kernelspec": {
   "display_name": "Python 3 (ipykernel)",
   "language": "python",
   "name": "python3"
  },
  "language_info": {
   "codemirror_mode": {
    "name": "ipython",
    "version": 3
   },
   "file_extension": ".py",
   "mimetype": "text/x-python",
   "name": "python",
   "nbconvert_exporter": "python",
   "pygments_lexer": "ipython3",
   "version": "3.11.7"
  }
 },
 "nbformat": 4,
 "nbformat_minor": 5
}
